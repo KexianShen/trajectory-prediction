{
 "cells": [
  {
   "cell_type": "code",
   "execution_count": null,
   "metadata": {},
   "outputs": [],
   "source": [
    "from pathlib import Path\n",
    "from src.datamodule.av2_dataset import Av2Dataset\n",
    "from src.datamodule.av2_extractor_multiagent import Av2ExtractorMultiAgent\n",
    "from src.datamodule.av2_dataset import collate_fn_cuda\n",
    "import torch\n",
    "from matplotlib import pyplot as plt\n",
    "import numpy as np\n",
    "\n",
    "data_root = Path(\"\")\n",
    "\n",
    "dataset = Av2Dataset(\n",
    "    data_root=data_root,\n",
    "    cached_split=\"trajectory-prediction/val\",\n",
    "    extractor=Av2ExtractorMultiAgent(radius=150),\n",
    ")"
   ]
  },
  {
   "cell_type": "code",
   "execution_count": null,
   "metadata": {},
   "outputs": [],
   "source": [
    "from src.model.trainer_mrm import Trainer as Model\n",
    "\n",
    "ckpt = \"\"\n",
    "model = Model.load_from_checkpoint(ckpt, pretrain_weights=None)\n",
    "model = model.eval()"
   ]
  },
  {
   "cell_type": "code",
   "execution_count": null,
   "metadata": {},
   "outputs": [],
   "source": [
    "data = dataset[0]\n",
    "\n",
    "global_pos, predict_pos = model.predict(collate_fn_cuda([data]))\n",
    "\n",
    "for i in range(global_pos.shape[1]):\n",
    "    plt.plot(global_pos[0, i, :, 0], global_pos[0, i, :, 1], \".\")\n",
    "\n",
    "for i in range(predict_pos.shape[2]):\n",
    "    plt.plot(predict_pos[0, 0, i, 0], predict_pos[0, 0, i, 1], \"r.\")"
   ]
  },
  {
   "cell_type": "code",
   "execution_count": null,
   "metadata": {},
   "outputs": [],
   "source": [
    "from src.model.trainer_mtm import Trainer as Model\n",
    "\n",
    "ckpt = \"\"\n",
    "model = Model.load_from_checkpoint(ckpt, pretrain_weights=None)\n",
    "model = model.eval()"
   ]
  },
  {
   "cell_type": "code",
   "execution_count": null,
   "metadata": {},
   "outputs": [],
   "source": [
    "data = dataset[0]\n",
    "\n",
    "global_pos, predict_pos = model.predict(collate_fn_cuda([data]))\n",
    "\n",
    "for i in range(global_pos.shape[1]):\n",
    "    plt.scatter(global_pos[0, i, :, 0], global_pos[0, i, :, 1], c=\"red\", s=5)\n",
    "\n",
    "for i in range(predict_pos.shape[2]):\n",
    "    plt.plot(predict_pos[0, 0, i, 0], predict_pos[0, 0, i, 1], \".\")"
   ]
  },
  {
   "cell_type": "code",
   "execution_count": null,
   "metadata": {},
   "outputs": [],
   "source": [
    "from src.model.trainer import Trainer as Model\n",
    "\n",
    "ckpt = \"\"\n",
    "model = Model()\n",
    "\n",
    "state_dict = torch.load(ckpt)[\"state_dict\"]\n",
    "model.load_state_dict(state_dict=state_dict, strict=False)\n",
    "model = model.eval().to(\"cuda\")"
   ]
  },
  {
   "cell_type": "code",
   "execution_count": null,
   "metadata": {},
   "outputs": [],
   "source": [
    "def get_history_and_label(data):\n",
    "    x_scored = data[\"x_scored\"]\n",
    "    history_pos = data[\"x_positions\"]\n",
    "    lane = data[\"lane_positions\"]\n",
    "    label_pos = data[\"y\"]\n",
    "    last_position = data[\"x_positions\"][:, -1, :].view(-1, 1, 2)\n",
    "    origin = data[\"origin\"].view(1, 1, 2).double()\n",
    "    theta = data[\"theta\"].double()\n",
    "    rotate_mat = torch.stack(\n",
    "        [\n",
    "            torch.cos(theta),\n",
    "            torch.sin(theta),\n",
    "            -torch.sin(theta),\n",
    "            torch.cos(theta),\n",
    "        ],\n",
    "        dim=1,\n",
    "    ).view(1, 2, 2)\n",
    "\n",
    "    with torch.no_grad():\n",
    "        history_pos = (\n",
    "            (torch.matmul(history_pos[..., :2].double(), rotate_mat) + origin)\n",
    "            .cpu()\n",
    "            .numpy()\n",
    "        )\n",
    "        label_pos = (\n",
    "            (\n",
    "                torch.matmul(\n",
    "                    label_pos[..., :2].double() + last_position,\n",
    "                    rotate_mat,\n",
    "                )\n",
    "                + origin\n",
    "            )\n",
    "            .cpu()\n",
    "            .numpy()\n",
    "        )\n",
    "        lane_pos = (\n",
    "            (torch.matmul(lane[..., :2].double(), rotate_mat) + origin).cpu().numpy()\n",
    "        )\n",
    "    return history_pos[x_scored], label_pos[x_scored], lane_pos, x_scored"
   ]
  },
  {
   "cell_type": "code",
   "execution_count": null,
   "metadata": {},
   "outputs": [],
   "source": [
    "data = dataset[0]\n",
    "history_pos, label_pos, lane_pos, x_scored = get_history_and_label(data)\n",
    "predict_pos = model.predict(collate_fn_cuda([data])).squeeze(0)[x_scored]\n",
    "\n",
    "for i in range(lane_pos.shape[0]):\n",
    "    num_unique = np.unique(lane_pos[i, :, 0], return_index=True)[1].size\n",
    "    num = 20 if num_unique == 20 else num_unique - 1\n",
    "    plt.plot(lane_pos[i, :, 0][:num], lane_pos[i, :, 1][:num], color=\"grey\", alpha=0.2)\n",
    "\n",
    "for i in range(predict_pos.shape[0]):\n",
    "    for j in range(predict_pos.shape[1]):\n",
    "        plt.plot(predict_pos[i, j, :, 0], predict_pos[i, j, :, 1], \"g-\", alpha=0.5)\n",
    "\n",
    "for i in range(history_pos.shape[0]):\n",
    "    plt.plot(history_pos[i, :, 0], history_pos[i, :, 1], \"b\", alpha=0.5)\n",
    "\n",
    "for i in range(label_pos.shape[0]):\n",
    "    plt.scatter(label_pos[i, :, 0], label_pos[i, :, 1], c=\"red\", s=5, alpha=0.5)"
   ]
  }
 ],
 "metadata": {
  "kernelspec": {
   "display_name": "av2_old",
   "language": "python",
   "name": "python3"
  },
  "language_info": {
   "codemirror_mode": {
    "name": "ipython",
    "version": 3
   },
   "file_extension": ".py",
   "mimetype": "text/x-python",
   "name": "python",
   "nbconvert_exporter": "python",
   "pygments_lexer": "ipython3",
   "version": "3.9.18"
  },
  "orig_nbformat": 4
 },
 "nbformat": 4,
 "nbformat_minor": 2
}
